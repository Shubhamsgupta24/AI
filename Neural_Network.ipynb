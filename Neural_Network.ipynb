{
 "cells": [
  {
   "cell_type": "code",
   "execution_count": 2,
   "id": "a866b8be-6f81-4259-90d4-c950a388e2dd",
   "metadata": {},
   "outputs": [
    {
     "name": "stderr",
     "output_type": "stream",
     "text": [
      "/home/sgubuntu/.local/lib/python3.10/site-packages/matplotlib/projections/__init__.py:63: UserWarning: Unable to import Axes3D. This may be due to multiple versions of Matplotlib being installed (e.g. as a system package and as a pip package). As a result, the 3D projection is not available.\n",
      "  warnings.warn(\"Unable to import Axes3D. This may be due to multiple versions of \"\n"
     ]
    }
   ],
   "source": [
    "import matplotlib.pyplot as plt\n",
    "import numpy as np"
   ]
  },
  {
   "cell_type": "code",
   "execution_count": 3,
   "id": "a179dc6e-7cd8-471d-84ba-35656f90e1fb",
   "metadata": {},
   "outputs": [
    {
     "name": "stdout",
     "output_type": "stream",
     "text": [
      "2.3\n"
     ]
    }
   ],
   "source": [
    "#Design back propogation for all Activation functions and Dense function-Assignemnt pf last\n",
    "# Create a Neuron with 3 inputs\n",
    "inputs = [1,2,3]\n",
    "weights = [0.2,0.8,-0.5]\n",
    "bias = 2.0\n",
    "\n",
    "#Dot product of vectors\n",
    "outputs = np.dot(weights,inputs) + bias\n",
    "print(outputs)"
   ]
  },
  {
   "cell_type": "code",
   "execution_count": 15,
   "id": "b3db9027-f8f0-4e18-96a7-238b85758033",
   "metadata": {},
   "outputs": [
    {
     "name": "stdout",
     "output_type": "stream",
     "text": [
      "1.0999999999999996\n"
     ]
    }
   ],
   "source": [
    "inputs = [3,6,1,1,1,0]\n",
    "weights = [0.2,0.5,-9,1,2.5,0.3]\n",
    "bias = 3\n",
    "\n",
    "outputs = np.dot(weights,inputs) + bias\n",
    "print(outputs)"
   ]
  },
  {
   "cell_type": "code",
   "execution_count": 18,
   "id": "6c500ea5-d700-4bcc-a755-24bf78d54275",
   "metadata": {},
   "outputs": [
    {
     "name": "stdout",
     "output_type": "stream",
     "text": [
      "[4.8   1.21  2.385]\n"
     ]
    }
   ],
   "source": [
    "#Use numpy array to create a 3 layer neural network with 4 inputs\n",
    "inputs = np.array([1,2,3,2.5])\n",
    "\n",
    "weights = np.array([[0.2,0.8,-0.5,1.0],\n",
    "                    [0.5,-0.91,0.26,-0.5],\n",
    "                    [-0.26,-0.27,0.17,0.87]])\n",
    "biases = np.array([2.0,3.0,0.5])\n",
    "\n",
    "output = np.dot(weights, inputs) + biases\n",
    "print(output)"
   ]
  },
  {
   "cell_type": "code",
   "execution_count": 23,
   "id": "ff99a358-bdec-4085-af84-cec1a4ac1cbf",
   "metadata": {},
   "outputs": [
    {
     "name": "stdout",
     "output_type": "stream",
     "text": [
      "[[ 4.8    1.21   2.385]\n",
      " [ 8.9   -1.81   0.2  ]\n",
      " [ 1.41   1.051  0.026]]\n"
     ]
    }
   ],
   "source": [
    "# Batch of input when there is are many inputs to compute the output\n",
    "\n",
    "inputs = np.array([[1.0,2.0,3.0,2.5],\n",
    "                   [2.0,5.0,-1.0,2.0],\n",
    "                   [-1.5,2.7,3.3,-0.8]])\n",
    "\n",
    "weights = np.array([[0.2,0.8,-0.5,1.0],\n",
    "                    [0.5,-0.91,0.26,-0.5],\n",
    "                    [-0.26,-0.27,0.17,0.87]])\n",
    "\n",
    "biases = np.array([2.0,3.0,0.5])\n",
    "\n",
    "output = np.dot(inputs, weights.T) + biases #T is transpose matrix\n",
    "print(output)"
   ]
  },
  {
   "cell_type": "code",
   "execution_count": 25,
   "id": "95c39db2-dd94-425f-a79b-b8e807eeaaef",
   "metadata": {},
   "outputs": [],
   "source": [
    "#Linear actuating functions do not modify anything and just pass\n",
    "def linear_activation(x):\n",
    "    return x\n",
    "\n",
    "def der_linear_activation(x):\n",
    "    return 1"
   ]
  },
  {
   "cell_type": "code",
   "execution_count": 26,
   "id": "7ecf475c-4f3f-48dd-8112-cc4f80d8a3bf",
   "metadata": {},
   "outputs": [],
   "source": [
    "#Binary activation is a simple binary step function\n",
    "def binary_activation(x):\n",
    "    return np.heaviside(x,1)\n",
    "        "
   ]
  },
  {
   "cell_type": "code",
   "execution_count": 34,
   "id": "1f4130a0-3806-4cf7-bb28-eacec334cb1a",
   "metadata": {},
   "outputs": [
    {
     "name": "stdout",
     "output_type": "stream",
     "text": [
      "0.5\n",
      "0.25\n"
     ]
    }
   ],
   "source": [
    "#Non-linear activation functions\n",
    "\n",
    "#1)Sigmoid\n",
    "\n",
    "def sigmoid(x):\n",
    "    return 1/(1+np.exp(-x))\n",
    "\n",
    "def der_sigmoid(x):\n",
    "    z = sigmoid(x)\n",
    "    return z * (1-z)\n",
    "    \n",
    "print(sigmoid(0))\n",
    "print(der_sigmoid(0))"
   ]
  },
  {
   "cell_type": "code",
   "execution_count": 32,
   "id": "40b5abb0-28ab-47ee-bedd-d9610de27ff9",
   "metadata": {},
   "outputs": [
    {
     "name": "stdout",
     "output_type": "stream",
     "text": [
      "0.7615941559557649\n"
     ]
    }
   ],
   "source": [
    "#2)Tanh\n",
    "\n",
    "def tanh(x):\n",
    "    return (np.exp(x)-np.exp(-x))/(np.exp(x)+np.exp(-x))\n",
    "\n",
    "print(tanh(1))"
   ]
  },
  {
   "cell_type": "code",
   "execution_count": 43,
   "id": "1ca81652-5108-4eed-9769-97a7a56386c2",
   "metadata": {},
   "outputs": [
    {
     "name": "stdout",
     "output_type": "stream",
     "text": [
      "[-5.  -4.5 -4.  -3.5 -3.  -2.5 -2.  -1.5 -1.  -0.5  0.   0.5  1.   1.5\n",
      "  2.   2.5  3.   3.5  4.   4.5]\n"
     ]
    },
    {
     "data": {
      "text/plain": [
       "[<matplotlib.lines.Line2D at 0x7f320485a770>]"
      ]
     },
     "execution_count": 43,
     "metadata": {},
     "output_type": "execute_result"
    },
    {
     "data": {
      "image/png": "[encoded data removed]",
      "text/plain": [
       "<Figure size 800x500 with 1 Axes>"
      ]
     },
     "metadata": {},
     "output_type": "display_data"
    }
   ],
   "source": [
    "z = np.arange(-5,5,0.5)\n",
    "print(z)\n",
    "\n",
    "fig,ax = plt.subplots(figsize=(8,5))\n",
    "ax.plot(z,sigmoid(z))\n",
    "ax.plot(z,tanh(z))"
   ]
  },
  {
   "cell_type": "code",
   "execution_count": 5,
   "id": "eada9819-639b-4026-a1ca-865aa0d13457",
   "metadata": {},
   "outputs": [],
   "source": [
    "# 2nd Lab - 23/10/2023\n",
    "\n",
    "class Layer_Dense:\n",
    "    def __init__(self,n_inputs,n_neurons):\n",
    "               #Initialize weights and biases\n",
    "               np.random.seed(0)  #to generate some random values\n",
    "               self.weights = 0.10*np.random.randn(n_inputs,n_neurons)\n",
    "               self.biases = np.zeros((1,n_neurons))\n",
    "\n",
    "    def forward(self,inputs):\n",
    "        #Calculate output values from inputs,weights and biases\n",
    "        self.output = np.dot(inputs,self.weights) + self.biases\n",
    "\n",
    "# class LinearActivation:\n",
    "#     def forward(self,inputs):\n",
    "        #Calculate output values from inputs,weights and biases"
   ]
  },
  {
   "cell_type": "code",
   "execution_count": 6,
   "id": "3e586e79-051b-41f4-92ca-ba9e37444439",
   "metadata": {},
   "outputs": [
    {
     "name": "stdout",
     "output_type": "stream",
     "text": [
      "Output of Layer 1 is:\n",
      "[[ 0.10758131  1.03983522  0.24462411  0.31821498  0.18851053]\n",
      " [-0.08349796  0.70846411  0.00293357  0.44701525  0.36360538]\n",
      " [-0.50763245  0.55688422  0.07987797 -0.34889573  0.04553042]]\n",
      "\n",
      "Output of Layer 2 is:\n",
      "[[ 0.19472295  0.21633814]\n",
      " [ 0.09387577  0.163295  ]\n",
      " [-0.05374511  0.10382249]]\n",
      "\n",
      "Output of Layer 3 is:\n",
      "[[ 0.04300707]\n",
      " [ 0.02309454]\n",
      " [-0.00532639]]\n"
     ]
    }
   ],
   "source": [
    "X = [[1,2,3,2.5],\n",
    "     [2,5,-1,2],\n",
    "     [-1.5,2.7,3.3,-0.8]]\n",
    "\n",
    "layer1 = Layer_Dense(4,5)\n",
    "layer2 = Layer_Dense(5,2)\n",
    "\n",
    "layer1.forward(X)\n",
    "print(\"Output of Layer 1 is:\")\n",
    "print(layer1.output)\n",
    "print(\"\\nOutput of Layer 2 is:\")\n",
    "layer2.forward(layer1.output)\n",
    "print(layer2.output)\n",
    "\n",
    "layer3 = Layer_Dense(2,1)\n",
    "print(\"\\nOutput of Layer 3 is:\")\n",
    "#Next layer will have only 1 neuron\n",
    "layer3.forward(layer2.output)\n",
    "print(layer3.output)"
   ]
  },
  {
   "cell_type": "code",
   "execution_count": 41,
   "id": "38bef8cc-bb8d-4b75-a7aa-3edfc4018769",
   "metadata": {},
   "outputs": [
    {
     "name": "stdout",
     "output_type": "stream",
     "text": [
      "Output of layer 3 is: \n",
      "[[-0.14612859]\n",
      " [-0.34125554]\n",
      " [-0.3384473 ]\n",
      " [-0.22887007]\n",
      " [-0.38997898]]\n"
     ]
    }
   ],
   "source": [
    "#Task - Design a neural network which can take input is a table of \n",
    "\n",
    "Dataset = [[1,2,3,4],\n",
    "           [6,7,8,9],\n",
    "           [1,2,3,45],\n",
    "           [3,4,5,7],\n",
    "           [2,5,8,9]]\n",
    "\n",
    "layer1 = Layer_Dense(4,10)\n",
    "layer2 = Layer_Dense(10,5)\n",
    "layer3 = Layer_Dense(5,1)\n",
    "\n",
    "layer1.forward(Dataset)\n",
    "layer2.forward(layer1.output)\n",
    "layer3.forward(layer2.output)\n",
    "print(\"Output of layer 3 is: \")\n",
    "print(layer3.output)"
   ]
  },
  {
   "cell_type": "code",
   "execution_count": 1,
   "id": "fdd6776b-eecf-40c7-8e1b-c6c6742fdae8",
   "metadata": {},
   "outputs": [],
   "source": [
    "class Activation_Linear:\n",
    "    def forward(self,inputs):\n",
    "        #Just remember values\n",
    "        self.inputs = inputs\n",
    "        self.output = inputs\n",
    "\n",
    "class ACtivation_ReLu:\n",
    "    def forward(self,inputs):\n",
    "        self.output = np.maximum(0,inputs)\n",
    "\n",
    "# class Activation_Softmax:\n",
    "#     def forward(self,inputs):\n",
    "#         exp_values = np.exp(inputs -\n",
    "\n"
   ]
  },
  {
   "cell_type": "code",
   "execution_count": 1,
   "id": "ddc185ea-8c83-4fa5-ae71-e85acddb2ce7",
   "metadata": {},
   "outputs": [
    {
     "name": "stdout",
     "output_type": "stream",
     "text": [
      "CGPA Prediction: \n",
      "[[8.79505744]\n",
      " [8.84864437]\n",
      " [8.96990295]\n",
      " [7.182472  ]\n",
      " [9.02187994]\n",
      " [6.20662912]\n",
      " [8.40813497]\n",
      " [8.99515114]\n",
      " [8.81939692]\n",
      " [8.93479036]]\n",
      "Total Loss: 1.626831025446838\n",
      "Mean Squared Error Loss: 1.626831025446838\n",
      "Total Loss (Mean Absolute Error): 0.8479683683781214\n",
      "Mean Absolute Error Loss: 0.8479683683781214\n",
      "Accuracy: 1.00\n",
      "Classification Report:\n",
      "              precision    recall  f1-score   support\n",
      "\n",
      "        Good       1.00      1.00      1.00         2\n",
      "\n",
      "    accuracy                           1.00         2\n",
      "   macro avg       1.00      1.00      1.00         2\n",
      "weighted avg       1.00      1.00      1.00         2\n",
      "\n"
     ]
    }
   ],
   "source": [
    "#Design ANN to predict the CGPA of a student.Take 10 samples of the stduent.Predit the 4th sem.Use Relu Activation Function.\n",
    "# SSC HSC HSC_Math 1st_sem_SGPA 2nd_sem_SGPA 3rd_sem_SGPA | 4th sem \n",
    "\n",
    "import numpy as np\n",
    "import pandas as pd\n",
    "from sklearn.ensemble import RandomForestClassifier\n",
    "from sklearn.model_selection import train_test_split\n",
    "from sklearn.metrics import accuracy_score, classification_report\n",
    "\n",
    "class Activation_ReLu:\n",
    "    def forward(self,inputs):\n",
    "        self.output = np.maximum(0,inputs)\n",
    "\n",
    "class Layer_Dense:\n",
    "    def __init__(self,n_inputs,n_neurons):\n",
    "               #Initialize weights and biases\n",
    "               np.random.seed(0)  #to generate some random values\n",
    "               self.weights = 0.10*np.random.randn(n_inputs,n_neurons)\n",
    "               self.biases = np.zeros((1,n_neurons))\n",
    "\n",
    "    def forward(self,inputs):\n",
    "        #Calculate output values from inputs,weights and biases\n",
    "        self.output = np.dot(inputs,self.weights) + self.biases + 2.58\n",
    "\n",
    "Dataset = [[89,97.5,99,9.12,9.02,8.66],\n",
    "           [93,87,95,8.05,8.15,8.28],\n",
    "           [94.8,96.3,96,9.43,9.24,9.0],\n",
    "           [54,52,88,6.36,6.55,7.12],\n",
    "           [96.8,92.3,99,9.09,9.33,9.01],\n",
    "           [37,39,36,5.45,5.55,6.12],\n",
    "           [81,93,91,9.55,9.67,9.44],\n",
    "           [95.33,96,96,8.95,8.88,8.59],\n",
    "           [91.23,91.45,94,8.75,8.12,8.49],\n",
    "           [93.69,96.69,94,8.69,8.25,9.1]]\n",
    "\n",
    "layer1 = Layer_Dense(6,8)\n",
    "activation1 = Activation_ReLu()\n",
    "layer1.forward(Dataset)\n",
    "\n",
    "layer2 = Layer_Dense(8,4)\n",
    "activation2 = Activation_ReLu()\n",
    "layer2.forward(layer1.output)\n",
    "\n",
    "layer3 = Layer_Dense(4,1)\n",
    "activation3 = Activation_ReLu()\n",
    "layer3.forward(layer2.output)\n",
    "\n",
    "print(\"CGPA Prediction: \")\n",
    "print(layer3.output)\n",
    "y_hat = layer3.output  #Shape of layer3.output is (10,1)\n",
    "\n",
    "y = [8.81,9.00,8.65,7.00,9.05,6.3,8.4,8.9,8.7,9] #This is the actual value for 4th sem of students\n",
    "\n",
    "class Loss:\n",
    "    #Calculate data loss\n",
    "    #given model output and ground truth values\n",
    "    def calculate(self,output,y):\n",
    "\n",
    "        #Calculate sample losses\n",
    "        sample_losses = self.forward(output,y)\n",
    "\n",
    "        #Calculate mean loss\n",
    "        data_loss = np.mean(sample_losses)\n",
    "        #Return loss\n",
    "        return data_loss\n",
    "\n",
    "# Mean Squared Error loss\n",
    "class Loss_MeanSquaredError(Loss): # L2 loss\n",
    "    # Forward pass\n",
    "    def forward(self, y_pred, y_true):\n",
    "        # Calculate loss\n",
    "        sample_losses = np.mean((y_true - y_pred)**2, axis=-1)\n",
    "        # Return losses\n",
    "        return sample_losses\n",
    "\n",
    "    # Backward pass\n",
    "    def backward(self, dvalues, y_true):\n",
    "        # Number of samples\n",
    "        samples = len(dvalues)\n",
    "        # Number of outputs in every sample\n",
    "        # We'll use the first sample to count them\n",
    "        outputs = len(dvalues[0])\n",
    "        # Gradient on values\n",
    "        self.dinputs = -2 * (y_true - dvalues) / outputs\n",
    "        # Normalize gradient\n",
    "        self.dinputs = self.dinputs / samples\n",
    "\n",
    "loss_mean_squared_error = Loss_MeanSquaredError()\n",
    "loss = loss_mean_squared_error.calculate(y_hat, y)\n",
    "\n",
    "print(f\"Total Loss: {loss}\")\n",
    "\n",
    "mean_squared_error_loss = np.mean(loss_mean_squared_error.forward(y_hat, y))\n",
    "print(f\"Mean Squared Error Loss: {mean_squared_error_loss}\")\n",
    "\n",
    "class Loss_MeanAbsoluteError(Loss):\n",
    "    # Forward pass\n",
    "    def forward(self, y_pred, y_true):\n",
    "        # Calculate loss\n",
    "        sample_losses = np.mean(np.abs(y_true - y_pred), axis=-1)\n",
    "        # Return losses\n",
    "        return sample_losses\n",
    "\n",
    "    # Backward pass\n",
    "    def backward(self, dvalues, y_true):\n",
    "        # Number of samples\n",
    "        samples = len(dvalues)\n",
    "        outputs = len(dvalues[0])\n",
    "        # Calculate gradient\n",
    "        self.dinputs = np.sign(y_true - dvalues) / outputs\n",
    "        # Normalize gradient\n",
    "        self.dinputs = self.dinputs / samples\n",
    "\n",
    "loss_mean_absolute_error = Loss_MeanAbsoluteError()\n",
    "loss_mae = loss_mean_absolute_error.calculate(y_hat, y)\n",
    "\n",
    "print(f\"Total Loss (Mean Absolute Error): {loss_mae}\")\n",
    "\n",
    "mean_absolute_error_loss = np.mean(loss_mean_absolute_error.forward(y_hat, y))\n",
    "print(f\"Mean Absolute Error Loss: {mean_absolute_error_loss}\")\n",
    "\n",
    "data = np.array([\n",
    "    [89, 97.5, 99, 9.12, 9.02, 8.66, 8.81],\n",
    "    [93, 87, 95, 8.05, 8.15, 8.28, 9.00],\n",
    "    [94.8, 96.3, 96, 9.43, 9.24, 9.0, 8.65],\n",
    "    [54, 52, 88, 6.36, 6.55, 7.12, 7.00],\n",
    "    [96.8, 92.3, 99, 9.09, 9.33, 9.01, 9.05],\n",
    "    [37, 39, 36, 5.45, 5.55, 6.12, 6.3],\n",
    "    [81, 93, 91, 9.55, 9.67, 9.44, 8.4],\n",
    "    [95.33, 96, 96, 8.95, 8.88, 8.59, 8.9],\n",
    "    [91.23, 91.45, 94, 8.75, 8.12, 8.49, 8.7],\n",
    "    [93.69, 96.69, 94, 8.69, 8.25, 9.1, 9.0]\n",
    "])\n",
    "\n",
    "# Separate features (X) and target (y)\n",
    "X = data[:, :-1]\n",
    "y = data[:, -1]\n",
    "\n",
    "# Classify into categories (Good, Average, Bad)\n",
    "def classify_cgpa(cgpa):\n",
    "    if cgpa >= 8.0:\n",
    "        return 'Good'\n",
    "    elif 7.0 <= cgpa < 8.0:\n",
    "        return 'Average'\n",
    "    else:\n",
    "        return 'Bad'\n",
    "\n",
    "# Map the target values to categories\n",
    "y_categories = np.array([classify_cgpa(cgpa) for cgpa in y])\n",
    "\n",
    "# Split the data into training and testing sets\n",
    "X_train, X_test, y_train, y_test = train_test_split(X, y_categories, test_size=0.2, random_state=42)\n",
    "\n",
    "# Train a Random Forest Classifier\n",
    "clf = RandomForestClassifier(random_state=42)\n",
    "clf.fit(X_train, y_train)\n",
    "\n",
    "# Make predictions on the test set\n",
    "y_pred = clf.predict(X_test)\n",
    "\n",
    "# Evaluate the model\n",
    "accuracy = accuracy_score(y_test, y_pred)\n",
    "print(f\"Accuracy: {accuracy:.2f}\")\n",
    "\n",
    "print(\"Classification Report:\")\n",
    "print(classification_report(y_test, y_pred))"
   ]
  },
  {
   "cell_type": "code",
   "execution_count": 4,
   "id": "f85c6acf-ee8a-4be4-abc4-166c096c7377",
   "metadata": {},
   "outputs": [],
   "source": []
  },
  {
   "cell_type": "code",
   "execution_count": null,
   "id": "8f8e1749-09ac-4980-92e0-77922618a2ed",
   "metadata": {},
   "outputs": [],
   "source": []
  }
 ],
 "metadata": {
  "kernelspec": {
   "display_name": "Python 3 (ipykernel)",
   "language": "python",
   "name": "python3"
  },
  "language_info": {
   "codemirror_mode": {
    "name": "ipython",
    "version": 3
   },
   "file_extension": ".py",
   "mimetype": "text/x-python",
   "name": "python",
   "nbconvert_exporter": "python",
   "pygments_lexer": "ipython3",
   "version": "3.10.12"
  }
 },
 "nbformat": 4,
 "nbformat_minor": 5
}
